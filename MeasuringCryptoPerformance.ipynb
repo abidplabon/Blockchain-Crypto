{
 "cells": [
  {
   "cell_type": "code",
   "execution_count": 1,
   "id": "547e6712",
   "metadata": {},
   "outputs": [],
   "source": [
    "import numpy as np\n",
    "import pandas as pd\n",
    "%matplotlib inline\n",
    "import matplotlib.pyplot as plt\n",
    "plt.style.use(\"seaborn\")"
   ]
  },
  {
   "cell_type": "code",
   "execution_count": 2,
   "id": "383fa0d3",
   "metadata": {},
   "outputs": [],
   "source": [
    "CryptoClose = pd.read_csv(\"CryptoClose.csv\")"
   ]
  },
  {
   "cell_type": "code",
   "execution_count": 3,
   "id": "23e6c53b",
   "metadata": {},
   "outputs": [
    {
     "data": {
      "text/html": [
       "<div>\n",
       "<style scoped>\n",
       "    .dataframe tbody tr th:only-of-type {\n",
       "        vertical-align: middle;\n",
       "    }\n",
       "\n",
       "    .dataframe tbody tr th {\n",
       "        vertical-align: top;\n",
       "    }\n",
       "\n",
       "    .dataframe thead th {\n",
       "        text-align: right;\n",
       "    }\n",
       "</style>\n",
       "<table border=\"1\" class=\"dataframe\">\n",
       "  <thead>\n",
       "    <tr style=\"text-align: right;\">\n",
       "      <th></th>\n",
       "      <th>Date</th>\n",
       "      <th>BTC-USD</th>\n",
       "      <th>ETH-USD</th>\n",
       "      <th>LTC-USD</th>\n",
       "    </tr>\n",
       "  </thead>\n",
       "  <tbody>\n",
       "    <tr>\n",
       "      <th>0</th>\n",
       "      <td>2017-11-09</td>\n",
       "      <td>7143.580078</td>\n",
       "      <td>320.884003</td>\n",
       "      <td>64.269699</td>\n",
       "    </tr>\n",
       "    <tr>\n",
       "      <th>1</th>\n",
       "      <td>2017-11-10</td>\n",
       "      <td>6618.140137</td>\n",
       "      <td>299.252991</td>\n",
       "      <td>59.260101</td>\n",
       "    </tr>\n",
       "    <tr>\n",
       "      <th>2</th>\n",
       "      <td>2017-11-11</td>\n",
       "      <td>6357.600098</td>\n",
       "      <td>314.681000</td>\n",
       "      <td>62.303299</td>\n",
       "    </tr>\n",
       "    <tr>\n",
       "      <th>3</th>\n",
       "      <td>2017-11-12</td>\n",
       "      <td>5950.069824</td>\n",
       "      <td>307.907990</td>\n",
       "      <td>59.005402</td>\n",
       "    </tr>\n",
       "    <tr>\n",
       "      <th>4</th>\n",
       "      <td>2017-11-13</td>\n",
       "      <td>6559.490234</td>\n",
       "      <td>316.716003</td>\n",
       "      <td>61.396500</td>\n",
       "    </tr>\n",
       "    <tr>\n",
       "      <th>...</th>\n",
       "      <td>...</td>\n",
       "      <td>...</td>\n",
       "      <td>...</td>\n",
       "      <td>...</td>\n",
       "    </tr>\n",
       "    <tr>\n",
       "      <th>1706</th>\n",
       "      <td>2022-07-12</td>\n",
       "      <td>19323.914062</td>\n",
       "      <td>1038.191650</td>\n",
       "      <td>47.542385</td>\n",
       "    </tr>\n",
       "    <tr>\n",
       "      <th>1707</th>\n",
       "      <td>2022-07-13</td>\n",
       "      <td>20212.074219</td>\n",
       "      <td>1113.587158</td>\n",
       "      <td>49.563126</td>\n",
       "    </tr>\n",
       "    <tr>\n",
       "      <th>1708</th>\n",
       "      <td>2022-07-14</td>\n",
       "      <td>20569.919922</td>\n",
       "      <td>1191.526245</td>\n",
       "      <td>51.218807</td>\n",
       "    </tr>\n",
       "    <tr>\n",
       "      <th>1709</th>\n",
       "      <td>2022-07-15</td>\n",
       "      <td>20836.328125</td>\n",
       "      <td>1233.129150</td>\n",
       "      <td>51.798065</td>\n",
       "    </tr>\n",
       "    <tr>\n",
       "      <th>1710</th>\n",
       "      <td>2022-07-16</td>\n",
       "      <td>21190.316406</td>\n",
       "      <td>1352.626465</td>\n",
       "      <td>55.125164</td>\n",
       "    </tr>\n",
       "  </tbody>\n",
       "</table>\n",
       "<p>1711 rows × 4 columns</p>\n",
       "</div>"
      ],
      "text/plain": [
       "            Date       BTC-USD      ETH-USD    LTC-USD\n",
       "0     2017-11-09   7143.580078   320.884003  64.269699\n",
       "1     2017-11-10   6618.140137   299.252991  59.260101\n",
       "2     2017-11-11   6357.600098   314.681000  62.303299\n",
       "3     2017-11-12   5950.069824   307.907990  59.005402\n",
       "4     2017-11-13   6559.490234   316.716003  61.396500\n",
       "...          ...           ...          ...        ...\n",
       "1706  2022-07-12  19323.914062  1038.191650  47.542385\n",
       "1707  2022-07-13  20212.074219  1113.587158  49.563126\n",
       "1708  2022-07-14  20569.919922  1191.526245  51.218807\n",
       "1709  2022-07-15  20836.328125  1233.129150  51.798065\n",
       "1710  2022-07-16  21190.316406  1352.626465  55.125164\n",
       "\n",
       "[1711 rows x 4 columns]"
      ]
     },
     "execution_count": 3,
     "metadata": {},
     "output_type": "execute_result"
    }
   ],
   "source": [
    "CryptoClose"
   ]
  },
  {
   "cell_type": "code",
   "execution_count": 4,
   "id": "4988eb26",
   "metadata": {},
   "outputs": [],
   "source": [
    "close = pd.read_csv(\"CryptoClose.csv\",index_col=[0],parse_dates=[0])"
   ]
  },
  {
   "cell_type": "code",
   "execution_count": 5,
   "id": "43ca4ddf",
   "metadata": {},
   "outputs": [
    {
     "data": {
      "text/html": [
       "<div>\n",
       "<style scoped>\n",
       "    .dataframe tbody tr th:only-of-type {\n",
       "        vertical-align: middle;\n",
       "    }\n",
       "\n",
       "    .dataframe tbody tr th {\n",
       "        vertical-align: top;\n",
       "    }\n",
       "\n",
       "    .dataframe thead th {\n",
       "        text-align: right;\n",
       "    }\n",
       "</style>\n",
       "<table border=\"1\" class=\"dataframe\">\n",
       "  <thead>\n",
       "    <tr style=\"text-align: right;\">\n",
       "      <th></th>\n",
       "      <th>BTC-USD</th>\n",
       "      <th>ETH-USD</th>\n",
       "      <th>LTC-USD</th>\n",
       "    </tr>\n",
       "    <tr>\n",
       "      <th>Date</th>\n",
       "      <th></th>\n",
       "      <th></th>\n",
       "      <th></th>\n",
       "    </tr>\n",
       "  </thead>\n",
       "  <tbody>\n",
       "    <tr>\n",
       "      <th>2017-11-09</th>\n",
       "      <td>7143.580078</td>\n",
       "      <td>320.884003</td>\n",
       "      <td>64.269699</td>\n",
       "    </tr>\n",
       "    <tr>\n",
       "      <th>2017-11-10</th>\n",
       "      <td>6618.140137</td>\n",
       "      <td>299.252991</td>\n",
       "      <td>59.260101</td>\n",
       "    </tr>\n",
       "    <tr>\n",
       "      <th>2017-11-11</th>\n",
       "      <td>6357.600098</td>\n",
       "      <td>314.681000</td>\n",
       "      <td>62.303299</td>\n",
       "    </tr>\n",
       "    <tr>\n",
       "      <th>2017-11-12</th>\n",
       "      <td>5950.069824</td>\n",
       "      <td>307.907990</td>\n",
       "      <td>59.005402</td>\n",
       "    </tr>\n",
       "    <tr>\n",
       "      <th>2017-11-13</th>\n",
       "      <td>6559.490234</td>\n",
       "      <td>316.716003</td>\n",
       "      <td>61.396500</td>\n",
       "    </tr>\n",
       "    <tr>\n",
       "      <th>...</th>\n",
       "      <td>...</td>\n",
       "      <td>...</td>\n",
       "      <td>...</td>\n",
       "    </tr>\n",
       "    <tr>\n",
       "      <th>2022-07-12</th>\n",
       "      <td>19323.914062</td>\n",
       "      <td>1038.191650</td>\n",
       "      <td>47.542385</td>\n",
       "    </tr>\n",
       "    <tr>\n",
       "      <th>2022-07-13</th>\n",
       "      <td>20212.074219</td>\n",
       "      <td>1113.587158</td>\n",
       "      <td>49.563126</td>\n",
       "    </tr>\n",
       "    <tr>\n",
       "      <th>2022-07-14</th>\n",
       "      <td>20569.919922</td>\n",
       "      <td>1191.526245</td>\n",
       "      <td>51.218807</td>\n",
       "    </tr>\n",
       "    <tr>\n",
       "      <th>2022-07-15</th>\n",
       "      <td>20836.328125</td>\n",
       "      <td>1233.129150</td>\n",
       "      <td>51.798065</td>\n",
       "    </tr>\n",
       "    <tr>\n",
       "      <th>2022-07-16</th>\n",
       "      <td>21190.316406</td>\n",
       "      <td>1352.626465</td>\n",
       "      <td>55.125164</td>\n",
       "    </tr>\n",
       "  </tbody>\n",
       "</table>\n",
       "<p>1711 rows × 3 columns</p>\n",
       "</div>"
      ],
      "text/plain": [
       "                 BTC-USD      ETH-USD    LTC-USD\n",
       "Date                                            \n",
       "2017-11-09   7143.580078   320.884003  64.269699\n",
       "2017-11-10   6618.140137   299.252991  59.260101\n",
       "2017-11-11   6357.600098   314.681000  62.303299\n",
       "2017-11-12   5950.069824   307.907990  59.005402\n",
       "2017-11-13   6559.490234   316.716003  61.396500\n",
       "...                  ...          ...        ...\n",
       "2022-07-12  19323.914062  1038.191650  47.542385\n",
       "2022-07-13  20212.074219  1113.587158  49.563126\n",
       "2022-07-14  20569.919922  1191.526245  51.218807\n",
       "2022-07-15  20836.328125  1233.129150  51.798065\n",
       "2022-07-16  21190.316406  1352.626465  55.125164\n",
       "\n",
       "[1711 rows x 3 columns]"
      ]
     },
     "execution_count": 5,
     "metadata": {},
     "output_type": "execute_result"
    }
   ],
   "source": [
    "close"
   ]
  },
  {
   "cell_type": "code",
   "execution_count": 6,
   "id": "be156df0",
   "metadata": {},
   "outputs": [],
   "source": [
    "btc= close.iloc[:,0].copy()"
   ]
  },
  {
   "cell_type": "code",
   "execution_count": 7,
   "id": "f09e33c6",
   "metadata": {},
   "outputs": [
    {
     "data": {
      "text/plain": [
       "Date\n",
       "2017-11-09     7143.580078\n",
       "2017-11-10     6618.140137\n",
       "2017-11-11     6357.600098\n",
       "2017-11-12     5950.069824\n",
       "2017-11-13     6559.490234\n",
       "                  ...     \n",
       "2022-07-12    19323.914062\n",
       "2022-07-13    20212.074219\n",
       "2022-07-14    20569.919922\n",
       "2022-07-15    20836.328125\n",
       "2022-07-16    21190.316406\n",
       "Name: BTC-USD, Length: 1711, dtype: float64"
      ]
     },
     "execution_count": 7,
     "metadata": {},
     "output_type": "execute_result"
    }
   ],
   "source": [
    "btc"
   ]
  },
  {
   "cell_type": "code",
   "execution_count": 8,
   "id": "1a948750",
   "metadata": {},
   "outputs": [
    {
     "data": {
      "text/plain": [
       "pandas.core.series.Series"
      ]
     },
     "execution_count": 8,
     "metadata": {},
     "output_type": "execute_result"
    }
   ],
   "source": [
    "type(btc)"
   ]
  },
  {
   "cell_type": "code",
   "execution_count": 9,
   "id": "34f93668",
   "metadata": {},
   "outputs": [],
   "source": [
    "btc=close.iloc[:,0].copy().to_frame()"
   ]
  },
  {
   "cell_type": "code",
   "execution_count": 10,
   "id": "aa1906fe",
   "metadata": {},
   "outputs": [
    {
     "data": {
      "text/html": [
       "<div>\n",
       "<style scoped>\n",
       "    .dataframe tbody tr th:only-of-type {\n",
       "        vertical-align: middle;\n",
       "    }\n",
       "\n",
       "    .dataframe tbody tr th {\n",
       "        vertical-align: top;\n",
       "    }\n",
       "\n",
       "    .dataframe thead th {\n",
       "        text-align: right;\n",
       "    }\n",
       "</style>\n",
       "<table border=\"1\" class=\"dataframe\">\n",
       "  <thead>\n",
       "    <tr style=\"text-align: right;\">\n",
       "      <th></th>\n",
       "      <th>BTC-USD</th>\n",
       "    </tr>\n",
       "    <tr>\n",
       "      <th>Date</th>\n",
       "      <th></th>\n",
       "    </tr>\n",
       "  </thead>\n",
       "  <tbody>\n",
       "    <tr>\n",
       "      <th>2017-11-09</th>\n",
       "      <td>7143.580078</td>\n",
       "    </tr>\n",
       "    <tr>\n",
       "      <th>2017-11-10</th>\n",
       "      <td>6618.140137</td>\n",
       "    </tr>\n",
       "    <tr>\n",
       "      <th>2017-11-11</th>\n",
       "      <td>6357.600098</td>\n",
       "    </tr>\n",
       "    <tr>\n",
       "      <th>2017-11-12</th>\n",
       "      <td>5950.069824</td>\n",
       "    </tr>\n",
       "    <tr>\n",
       "      <th>2017-11-13</th>\n",
       "      <td>6559.490234</td>\n",
       "    </tr>\n",
       "    <tr>\n",
       "      <th>...</th>\n",
       "      <td>...</td>\n",
       "    </tr>\n",
       "    <tr>\n",
       "      <th>2022-07-12</th>\n",
       "      <td>19323.914062</td>\n",
       "    </tr>\n",
       "    <tr>\n",
       "      <th>2022-07-13</th>\n",
       "      <td>20212.074219</td>\n",
       "    </tr>\n",
       "    <tr>\n",
       "      <th>2022-07-14</th>\n",
       "      <td>20569.919922</td>\n",
       "    </tr>\n",
       "    <tr>\n",
       "      <th>2022-07-15</th>\n",
       "      <td>20836.328125</td>\n",
       "    </tr>\n",
       "    <tr>\n",
       "      <th>2022-07-16</th>\n",
       "      <td>21190.316406</td>\n",
       "    </tr>\n",
       "  </tbody>\n",
       "</table>\n",
       "<p>1711 rows × 1 columns</p>\n",
       "</div>"
      ],
      "text/plain": [
       "                 BTC-USD\n",
       "Date                    \n",
       "2017-11-09   7143.580078\n",
       "2017-11-10   6618.140137\n",
       "2017-11-11   6357.600098\n",
       "2017-11-12   5950.069824\n",
       "2017-11-13   6559.490234\n",
       "...                  ...\n",
       "2022-07-12  19323.914062\n",
       "2022-07-13  20212.074219\n",
       "2022-07-14  20569.919922\n",
       "2022-07-15  20836.328125\n",
       "2022-07-16  21190.316406\n",
       "\n",
       "[1711 rows x 1 columns]"
      ]
     },
     "execution_count": 10,
     "metadata": {},
     "output_type": "execute_result"
    }
   ],
   "source": [
    "btc"
   ]
  },
  {
   "cell_type": "code",
   "execution_count": 11,
   "id": "0061569e",
   "metadata": {},
   "outputs": [
    {
     "data": {
      "text/html": [
       "<div>\n",
       "<style scoped>\n",
       "    .dataframe tbody tr th:only-of-type {\n",
       "        vertical-align: middle;\n",
       "    }\n",
       "\n",
       "    .dataframe tbody tr th {\n",
       "        vertical-align: top;\n",
       "    }\n",
       "\n",
       "    .dataframe thead th {\n",
       "        text-align: right;\n",
       "    }\n",
       "</style>\n",
       "<table border=\"1\" class=\"dataframe\">\n",
       "  <thead>\n",
       "    <tr style=\"text-align: right;\">\n",
       "      <th></th>\n",
       "      <th>BTC-USD</th>\n",
       "    </tr>\n",
       "    <tr>\n",
       "      <th>Date</th>\n",
       "      <th></th>\n",
       "    </tr>\n",
       "  </thead>\n",
       "  <tbody>\n",
       "    <tr>\n",
       "      <th>2017-11-09</th>\n",
       "      <td>NaN</td>\n",
       "    </tr>\n",
       "    <tr>\n",
       "      <th>2017-11-10</th>\n",
       "      <td>-0.073554</td>\n",
       "    </tr>\n",
       "    <tr>\n",
       "      <th>2017-11-11</th>\n",
       "      <td>-0.039368</td>\n",
       "    </tr>\n",
       "    <tr>\n",
       "      <th>2017-11-12</th>\n",
       "      <td>-0.064101</td>\n",
       "    </tr>\n",
       "    <tr>\n",
       "      <th>2017-11-13</th>\n",
       "      <td>0.102422</td>\n",
       "    </tr>\n",
       "    <tr>\n",
       "      <th>...</th>\n",
       "      <td>...</td>\n",
       "    </tr>\n",
       "    <tr>\n",
       "      <th>2022-07-12</th>\n",
       "      <td>-0.032380</td>\n",
       "    </tr>\n",
       "    <tr>\n",
       "      <th>2022-07-13</th>\n",
       "      <td>0.045962</td>\n",
       "    </tr>\n",
       "    <tr>\n",
       "      <th>2022-07-14</th>\n",
       "      <td>0.017705</td>\n",
       "    </tr>\n",
       "    <tr>\n",
       "      <th>2022-07-15</th>\n",
       "      <td>0.012951</td>\n",
       "    </tr>\n",
       "    <tr>\n",
       "      <th>2022-07-16</th>\n",
       "      <td>0.016989</td>\n",
       "    </tr>\n",
       "  </tbody>\n",
       "</table>\n",
       "<p>1711 rows × 1 columns</p>\n",
       "</div>"
      ],
      "text/plain": [
       "             BTC-USD\n",
       "Date                \n",
       "2017-11-09       NaN\n",
       "2017-11-10 -0.073554\n",
       "2017-11-11 -0.039368\n",
       "2017-11-12 -0.064101\n",
       "2017-11-13  0.102422\n",
       "...              ...\n",
       "2022-07-12 -0.032380\n",
       "2022-07-13  0.045962\n",
       "2022-07-14  0.017705\n",
       "2022-07-15  0.012951\n",
       "2022-07-16  0.016989\n",
       "\n",
       "[1711 rows x 1 columns]"
      ]
     },
     "execution_count": 11,
     "metadata": {},
     "output_type": "execute_result"
    }
   ],
   "source": [
    "btc.pct_change()"
   ]
  },
  {
   "cell_type": "code",
   "execution_count": 12,
   "id": "684c3d84",
   "metadata": {},
   "outputs": [
    {
     "data": {
      "text/html": [
       "<div>\n",
       "<style scoped>\n",
       "    .dataframe tbody tr th:only-of-type {\n",
       "        vertical-align: middle;\n",
       "    }\n",
       "\n",
       "    .dataframe tbody tr th {\n",
       "        vertical-align: top;\n",
       "    }\n",
       "\n",
       "    .dataframe thead th {\n",
       "        text-align: right;\n",
       "    }\n",
       "</style>\n",
       "<table border=\"1\" class=\"dataframe\">\n",
       "  <thead>\n",
       "    <tr style=\"text-align: right;\">\n",
       "      <th></th>\n",
       "      <th>BTC-USD</th>\n",
       "    </tr>\n",
       "    <tr>\n",
       "      <th>Date</th>\n",
       "      <th></th>\n",
       "    </tr>\n",
       "  </thead>\n",
       "  <tbody>\n",
       "    <tr>\n",
       "      <th>2017-11-10</th>\n",
       "      <td>-0.073554</td>\n",
       "    </tr>\n",
       "    <tr>\n",
       "      <th>2017-11-11</th>\n",
       "      <td>-0.039368</td>\n",
       "    </tr>\n",
       "    <tr>\n",
       "      <th>2017-11-12</th>\n",
       "      <td>-0.064101</td>\n",
       "    </tr>\n",
       "    <tr>\n",
       "      <th>2017-11-13</th>\n",
       "      <td>0.102422</td>\n",
       "    </tr>\n",
       "    <tr>\n",
       "      <th>2017-11-14</th>\n",
       "      <td>0.011626</td>\n",
       "    </tr>\n",
       "    <tr>\n",
       "      <th>...</th>\n",
       "      <td>...</td>\n",
       "    </tr>\n",
       "    <tr>\n",
       "      <th>2022-07-12</th>\n",
       "      <td>-0.032380</td>\n",
       "    </tr>\n",
       "    <tr>\n",
       "      <th>2022-07-13</th>\n",
       "      <td>0.045962</td>\n",
       "    </tr>\n",
       "    <tr>\n",
       "      <th>2022-07-14</th>\n",
       "      <td>0.017705</td>\n",
       "    </tr>\n",
       "    <tr>\n",
       "      <th>2022-07-15</th>\n",
       "      <td>0.012951</td>\n",
       "    </tr>\n",
       "    <tr>\n",
       "      <th>2022-07-16</th>\n",
       "      <td>0.016989</td>\n",
       "    </tr>\n",
       "  </tbody>\n",
       "</table>\n",
       "<p>1710 rows × 1 columns</p>\n",
       "</div>"
      ],
      "text/plain": [
       "             BTC-USD\n",
       "Date                \n",
       "2017-11-10 -0.073554\n",
       "2017-11-11 -0.039368\n",
       "2017-11-12 -0.064101\n",
       "2017-11-13  0.102422\n",
       "2017-11-14  0.011626\n",
       "...              ...\n",
       "2022-07-12 -0.032380\n",
       "2022-07-13  0.045962\n",
       "2022-07-14  0.017705\n",
       "2022-07-15  0.012951\n",
       "2022-07-16  0.016989\n",
       "\n",
       "[1710 rows x 1 columns]"
      ]
     },
     "execution_count": 12,
     "metadata": {},
     "output_type": "execute_result"
    }
   ],
   "source": [
    "btc.pct_change().dropna()"
   ]
  },
  {
   "cell_type": "code",
   "execution_count": 13,
   "id": "f28ed9c7",
   "metadata": {},
   "outputs": [
    {
     "data": {
      "text/html": [
       "<div>\n",
       "<style scoped>\n",
       "    .dataframe tbody tr th:only-of-type {\n",
       "        vertical-align: middle;\n",
       "    }\n",
       "\n",
       "    .dataframe tbody tr th {\n",
       "        vertical-align: top;\n",
       "    }\n",
       "\n",
       "    .dataframe thead th {\n",
       "        text-align: right;\n",
       "    }\n",
       "</style>\n",
       "<table border=\"1\" class=\"dataframe\">\n",
       "  <thead>\n",
       "    <tr style=\"text-align: right;\">\n",
       "      <th></th>\n",
       "      <th>BTC-USD</th>\n",
       "    </tr>\n",
       "    <tr>\n",
       "      <th>Date</th>\n",
       "      <th></th>\n",
       "    </tr>\n",
       "  </thead>\n",
       "  <tbody>\n",
       "    <tr>\n",
       "      <th>2017-11-10</th>\n",
       "      <td>-0.073554</td>\n",
       "    </tr>\n",
       "    <tr>\n",
       "      <th>2017-11-11</th>\n",
       "      <td>-0.039368</td>\n",
       "    </tr>\n",
       "    <tr>\n",
       "      <th>2017-11-12</th>\n",
       "      <td>-0.064101</td>\n",
       "    </tr>\n",
       "    <tr>\n",
       "      <th>2017-11-13</th>\n",
       "      <td>0.102422</td>\n",
       "    </tr>\n",
       "    <tr>\n",
       "      <th>2017-11-14</th>\n",
       "      <td>0.011626</td>\n",
       "    </tr>\n",
       "  </tbody>\n",
       "</table>\n",
       "</div>"
      ],
      "text/plain": [
       "             BTC-USD\n",
       "Date                \n",
       "2017-11-10 -0.073554\n",
       "2017-11-11 -0.039368\n",
       "2017-11-12 -0.064101\n",
       "2017-11-13  0.102422\n",
       "2017-11-14  0.011626"
      ]
     },
     "execution_count": 13,
     "metadata": {},
     "output_type": "execute_result"
    }
   ],
   "source": [
    "ret=btc.pct_change().dropna()\n",
    "ret.head()"
   ]
  },
  {
   "cell_type": "code",
   "execution_count": 14,
   "id": "c684968e",
   "metadata": {},
   "outputs": [
    {
     "name": "stdout",
     "output_type": "stream",
     "text": [
      "<class 'pandas.core.frame.DataFrame'>\n",
      "DatetimeIndex: 1710 entries, 2017-11-10 to 2022-07-16\n",
      "Data columns (total 1 columns):\n",
      " #   Column   Non-Null Count  Dtype  \n",
      "---  ------   --------------  -----  \n",
      " 0   BTC-USD  1710 non-null   float64\n",
      "dtypes: float64(1)\n",
      "memory usage: 26.7 KB\n"
     ]
    }
   ],
   "source": [
    "ret.info()"
   ]
  },
  {
   "cell_type": "code",
   "execution_count": 19,
   "id": "c5b8cdac",
   "metadata": {},
   "outputs": [
    {
     "data": {
      "image/png": "[encoded data removed]",
      "text/plain": [
       "<Figure size 864x576 with 1 Axes>"
      ]
     },
     "metadata": {},
     "output_type": "display_data"
    }
   ],
   "source": [
    "ret.plot(kind=\"hist\",figsize=(12,8),bins=100)\n",
    "plt.show()"
   ]
  },
  {
   "cell_type": "code",
   "execution_count": 20,
   "id": "6df595f3",
   "metadata": {},
   "outputs": [],
   "source": [
    "daily_mean_ret = ret.mean()"
   ]
  },
  {
   "cell_type": "code",
   "execution_count": 21,
   "id": "4966e6d1",
   "metadata": {},
   "outputs": [
    {
     "data": {
      "text/plain": [
       "BTC-USD    0.001478\n",
       "dtype: float64"
      ]
     },
     "execution_count": 21,
     "metadata": {},
     "output_type": "execute_result"
    }
   ],
   "source": [
    "daily_mean_ret"
   ]
  },
  {
   "cell_type": "code",
   "execution_count": 22,
   "id": "3d438d09",
   "metadata": {},
   "outputs": [],
   "source": [
    "var_daily_ret = ret.var()"
   ]
  },
  {
   "cell_type": "code",
   "execution_count": 23,
   "id": "5c897ad1",
   "metadata": {},
   "outputs": [
    {
     "data": {
      "text/plain": [
       "BTC-USD    0.001665\n",
       "dtype: float64"
      ]
     },
     "execution_count": 23,
     "metadata": {},
     "output_type": "execute_result"
    }
   ],
   "source": [
    "var_daily_ret"
   ]
  },
  {
   "cell_type": "code",
   "execution_count": 24,
   "id": "c7f3c39d",
   "metadata": {},
   "outputs": [],
   "source": [
    "#Square root of variance gives standard deviation"
   ]
  },
  {
   "cell_type": "code",
   "execution_count": 25,
   "id": "686abd96",
   "metadata": {},
   "outputs": [],
   "source": [
    "std_daily_ret = np.sqrt(var_daily_ret)"
   ]
  },
  {
   "cell_type": "code",
   "execution_count": 26,
   "id": "d9b5609c",
   "metadata": {},
   "outputs": [
    {
     "data": {
      "text/plain": [
       "BTC-USD    0.040803\n",
       "dtype: float64"
      ]
     },
     "execution_count": 26,
     "metadata": {},
     "output_type": "execute_result"
    }
   ],
   "source": [
    "std_daily_ret"
   ]
  },
  {
   "cell_type": "code",
   "execution_count": 27,
   "id": "8a85e014",
   "metadata": {},
   "outputs": [],
   "source": [
    "#another way to find standard deviation"
   ]
  },
  {
   "cell_type": "code",
   "execution_count": 28,
   "id": "ff697fe1",
   "metadata": {},
   "outputs": [
    {
     "data": {
      "text/plain": [
       "BTC-USD    0.040803\n",
       "dtype: float64"
      ]
     },
     "execution_count": 28,
     "metadata": {},
     "output_type": "execute_result"
    }
   ],
   "source": [
    "ret.std()"
   ]
  },
  {
   "cell_type": "code",
   "execution_count": 29,
   "id": "f507e9d1",
   "metadata": {},
   "outputs": [],
   "source": [
    "anual_mean_ret = ret.mean()*365"
   ]
  },
  {
   "cell_type": "code",
   "execution_count": 30,
   "id": "d27cabc7",
   "metadata": {},
   "outputs": [
    {
     "data": {
      "text/plain": [
       "BTC-USD    0.539319\n",
       "dtype: float64"
      ]
     },
     "execution_count": 30,
     "metadata": {},
     "output_type": "execute_result"
    }
   ],
   "source": [
    "anual_mean_ret"
   ]
  },
  {
   "cell_type": "code",
   "execution_count": 31,
   "id": "f5069775",
   "metadata": {},
   "outputs": [
    {
     "data": {
      "text/plain": [
       "BTC-USD    0.607692\n",
       "dtype: float64"
      ]
     },
     "execution_count": 31,
     "metadata": {},
     "output_type": "execute_result"
    }
   ],
   "source": [
    "anual_var_ret = ret.var()*365\n",
    "anual_var_ret"
   ]
  },
  {
   "cell_type": "code",
   "execution_count": 32,
   "id": "4cdc3e76",
   "metadata": {},
   "outputs": [
    {
     "data": {
      "text/plain": [
       "BTC-USD    0.779546\n",
       "dtype: float64"
      ]
     },
     "execution_count": 32,
     "metadata": {},
     "output_type": "execute_result"
    }
   ],
   "source": [
    "anual_std_ret = np.sqrt(anual_var_ret)\n",
    "anual_std_ret"
   ]
  },
  {
   "cell_type": "code",
   "execution_count": null,
   "id": "744610f3",
   "metadata": {},
   "outputs": [],
   "source": []
  }
 ],
 "metadata": {
  "kernelspec": {
   "display_name": "Python 3",
   "language": "python",
   "name": "python3"
  },
  "language_info": {
   "codemirror_mode": {
    "name": "ipython",
    "version": 3
   },
   "file_extension": ".py",
   "mimetype": "text/x-python",
   "name": "python",
   "nbconvert_exporter": "python",
   "pygments_lexer": "ipython3",
   "version": "3.8.8"
  }
 },
 "nbformat": 4,
 "nbformat_minor": 5
}
